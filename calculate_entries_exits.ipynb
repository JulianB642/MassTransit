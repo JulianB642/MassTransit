{
 "cells": [
  {
   "cell_type": "code",
   "execution_count": null,
   "metadata": {},
   "outputs": [],
   "source": [
    "import numpy as np\n",
    "import pandas as pd\n",
    "def get_entries_exits(path):         #path should be a str\n",
    "    data=pd.read_csv(path)\n",
    "    station_slice=data.loc[(data['LINENAME']==\"1\") & (data['STATION']=='V.CORTLANDT PK')]\n",
    "    entries=np.array(station_slice['ENTRIES'])\n",
    "    exits=np.array(station_slice.iloc[:,11])\n",
    "    num_entries=np.diff(entries)\n",
    "    num_exits=np.diff(exits)\n",
    "    return num_entries,num_exits\n",
    "\n",
    "path=r\"C:\\Users\\Raayan\\Documents\\Columbia\\Summer2020\\DesignChallenge\\data0.csv\"\n",
    "get_entries_exits(path)"
   ]
  }
 ],
 "metadata": {
  "kernelspec": {
   "display_name": "Python 3",
   "language": "python",
   "name": "python3"
  },
  "language_info": {
   "codemirror_mode": {
    "name": "ipython",
    "version": 3
   },
   "file_extension": ".py",
   "mimetype": "text/x-python",
   "name": "python",
   "nbconvert_exporter": "python",
   "pygments_lexer": "ipython3",
   "version": "3.7.4"
  }
 },
 "nbformat": 4,
 "nbformat_minor": 2
}
